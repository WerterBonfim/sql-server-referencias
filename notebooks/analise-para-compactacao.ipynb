{
    "metadata": {
        "kernelspec": {
            "name": "SQL",
            "display_name": "SQL",
            "language": "sql"
        },
        "language_info": {
            "name": "sql",
            "version": ""
        }
    },
    "nbformat_minor": 2,
    "nbformat": 4,
    "cells": [
        {
            "cell_type": "markdown",
            "source": [
                "## Estimativa de compactação"
            ],
            "metadata": {
                "azdata_cell_guid": "bf96df7f-d6eb-4280-9c1d-fd26a3291856"
            }
        },
        {
            "cell_type": "code",
            "source": [
                "\n",
                "declare @nomeDaTabela as varchar(50) = 'tItemMovimento'\n",
                "declare @tabela table (\n",
                "    a varchar(128),\n",
                "    b varchar(128),\n",
                "    c int,\n",
                "    d int,\n",
                "    [size_with_current_compression_setting(KB)] bigint,\n",
                "    [size_with_requested_compression_setting(KB)] bigint,\n",
                "    e bigint,\n",
                "    f bigint\n",
                ")\n",
                "declare @tamanhoAtual as bigint\n",
                "declare @tamanhoEstimado as bigint\n",
                "declare @porcentagemDeMelhoria as bigint\n",
                "\n",
                "insert @tabela (a, b, c, d, [size_with_current_compression_setting(KB)], [size_with_requested_compression_setting(KB)], e, f)\n",
                "exec sp_estimate_data_compression_savings 'dbo', @nomeDaTabela, null, null, 'PAGE'\n",
                "select @tamanhoAtual = [size_with_current_compression_setting(KB)],\n",
                "       @tamanhoEstimado = [size_with_requested_compression_setting(KB)]\n",
                "from @tabela\n",
                "\n",
                "set @porcentagemDeMelhoria = 100- ((@tamanhoEstimado * 100) / @tamanhoAtual)\n",
                "select @nomeDaTabela as tabela,\n",
                "       @tamanhoAtual as tamanhoAtual,\n",
                "       @tamanhoEstimado as tamanhoEstimado,\n",
                "       @porcentagemDeMelhoria as porcentagemDeMelhoria"
            ],
            "metadata": {
                "azdata_cell_guid": "b93824a2-6616-43a2-b980-4f63349358ff"
            },
            "outputs": [
                {
                    "output_type": "display_data",
                    "data": {
                        "text/html": "(1 row affected)"
                    },
                    "metadata": {}
                },
                {
                    "output_type": "display_data",
                    "data": {
                        "text/html": "(1 row affected)"
                    },
                    "metadata": {}
                },
                {
                    "output_type": "display_data",
                    "data": {
                        "text/html": "Total execution time: 00:00:01.392"
                    },
                    "metadata": {}
                },
                {
                    "output_type": "execute_result",
                    "metadata": {},
                    "execution_count": 11,
                    "data": {
                        "application/vnd.dataresource+json": {
                            "schema": {
                                "fields": [
                                    {
                                        "name": "tabela"
                                    },
                                    {
                                        "name": "tamanhoAtual"
                                    },
                                    {
                                        "name": "tamanhoEstimado"
                                    },
                                    {
                                        "name": "porcentagemDeMelhoria"
                                    }
                                ]
                            },
                            "data": [
                                {
                                    "0": "tItemMovimento",
                                    "1": "160704",
                                    "2": "66280",
                                    "3": "59"
                                }
                            ]
                        },
                        "text/html": [
                            "<table>",
                            "<tr><th>tabela</th><th>tamanhoAtual</th><th>tamanhoEstimado</th><th>porcentagemDeMelhoria</th></tr>",
                            "<tr><td>tItemMovimento</td><td>160704</td><td>66280</td><td>59</td></tr>",
                            "</table>"
                        ]
                    }
                }
            ],
            "execution_count": 11
        },
        {
            "cell_type": "markdown",
            "source": [
                "## Mostra as paginas que estão alocadas na tabela"
            ],
            "metadata": {
                "azdata_cell_guid": "bd407063-eee9-465d-bb39-044c263eccda"
            }
        },
        {
            "cell_type": "code",
            "source": [
                "declare @nomeDaTabela as varchar(50) = 'tItemMovimento'\n",
                "select @nomeDaTabela as tabela, total_pages, used_pages, data_pages, p.data_compression_desc\n",
                "from sys.allocation_units au\n",
                "         join sys.partitions p\n",
                "              on au.container_id = p.partition_id\n",
                "where p.object_id = object_id( @nomeDaTabela )\n",
                "  and au.type = 1"
            ],
            "metadata": {
                "azdata_cell_guid": "18f43878-f714-4411-8817-35040b5c939d"
            },
            "outputs": [
                {
                    "output_type": "display_data",
                    "data": {
                        "text/html": "(1 row affected)"
                    },
                    "metadata": {}
                },
                {
                    "output_type": "display_data",
                    "data": {
                        "text/html": "Total execution time: 00:00:00.008"
                    },
                    "metadata": {}
                },
                {
                    "output_type": "execute_result",
                    "metadata": {},
                    "execution_count": 12,
                    "data": {
                        "application/vnd.dataresource+json": {
                            "schema": {
                                "fields": [
                                    {
                                        "name": "tabela"
                                    },
                                    {
                                        "name": "total_pages"
                                    },
                                    {
                                        "name": "used_pages"
                                    },
                                    {
                                        "name": "data_pages"
                                    },
                                    {
                                        "name": "data_compression_desc"
                                    }
                                ]
                            },
                            "data": [
                                {
                                    "0": "tItemMovimento",
                                    "1": "20090",
                                    "2": "20088",
                                    "3": "20086",
                                    "4": "NONE"
                                }
                            ]
                        },
                        "text/html": [
                            "<table>",
                            "<tr><th>tabela</th><th>total_pages</th><th>used_pages</th><th>data_pages</th><th>data_compression_desc</th></tr>",
                            "<tr><td>tItemMovimento</td><td>20090</td><td>20088</td><td>20086</td><td>NONE</td></tr>",
                            "</table>"
                        ]
                    }
                }
            ],
            "execution_count": 12
        },
        {
            "cell_type": "markdown",
            "source": [
                "## Tamanho atual"
            ],
            "metadata": {
                "azdata_cell_guid": "6714c807-1282-4f62-81d7-1632acc9a20c"
            }
        },
        {
            "cell_type": "code",
            "source": [
                "sp_spaceused 'tItemMovimento'"
            ],
            "metadata": {
                "azdata_cell_guid": "daf45669-4b5a-4e8c-9ef0-6f4e4b39c21c"
            },
            "outputs": [
                {
                    "output_type": "display_data",
                    "data": {
                        "text/html": "Commands completed successfully."
                    },
                    "metadata": {}
                },
                {
                    "output_type": "display_data",
                    "data": {
                        "text/html": "Total execution time: 00:00:00.003"
                    },
                    "metadata": {}
                },
                {
                    "output_type": "execute_result",
                    "metadata": {},
                    "execution_count": 14,
                    "data": {
                        "application/vnd.dataresource+json": {
                            "schema": {
                                "fields": [
                                    {
                                        "name": "name"
                                    },
                                    {
                                        "name": "rows"
                                    },
                                    {
                                        "name": "reserved"
                                    },
                                    {
                                        "name": "data"
                                    },
                                    {
                                        "name": "index_size"
                                    },
                                    {
                                        "name": "unused"
                                    }
                                ]
                            },
                            "data": [
                                {
                                    "0": "tItemMovimento",
                                    "1": "2611100             ",
                                    "2": "160720 KB",
                                    "3": "160688 KB",
                                    "4": "16 KB",
                                    "5": "16 KB"
                                }
                            ]
                        },
                        "text/html": [
                            "<table>",
                            "<tr><th>name</th><th>rows</th><th>reserved</th><th>data</th><th>index_size</th><th>unused</th></tr>",
                            "<tr><td>tItemMovimento</td><td>2611100             </td><td>160720 KB</td><td>160688 KB</td><td>16 KB</td><td>16 KB</td></tr>",
                            "</table>"
                        ]
                    }
                }
            ],
            "execution_count": 14
        },
        {
            "cell_type": "markdown",
            "source": [
                "## Resultado"
            ],
            "metadata": {
                "azdata_cell_guid": "29cff21b-8d46-48a7-b9a0-69c854206849"
            }
        },
        {
            "cell_type": "code",
            "source": [
                "sp_spaceused 'tItemMovimento'"
            ],
            "metadata": {
                "azdata_cell_guid": "e39ddd32-49b1-40e8-b73d-56c1f39e4f40"
            },
            "outputs": [
                {
                    "output_type": "display_data",
                    "data": {
                        "text/html": "Commands completed successfully."
                    },
                    "metadata": {}
                },
                {
                    "output_type": "display_data",
                    "data": {
                        "text/html": "Total execution time: 00:00:00.003"
                    },
                    "metadata": {}
                },
                {
                    "output_type": "execute_result",
                    "metadata": {},
                    "execution_count": 18,
                    "data": {
                        "application/vnd.dataresource+json": {
                            "schema": {
                                "fields": [
                                    {
                                        "name": "name"
                                    },
                                    {
                                        "name": "rows"
                                    },
                                    {
                                        "name": "reserved"
                                    },
                                    {
                                        "name": "data"
                                    },
                                    {
                                        "name": "index_size"
                                    },
                                    {
                                        "name": "unused"
                                    }
                                ]
                            },
                            "data": [
                                {
                                    "0": "tItemMovimento",
                                    "1": "2611100             ",
                                    "2": "65616 KB",
                                    "3": "65552 KB",
                                    "4": "16 KB",
                                    "5": "48 KB"
                                }
                            ]
                        },
                        "text/html": [
                            "<table>",
                            "<tr><th>name</th><th>rows</th><th>reserved</th><th>data</th><th>index_size</th><th>unused</th></tr>",
                            "<tr><td>tItemMovimento</td><td>2611100             </td><td>65616 KB</td><td>65552 KB</td><td>16 KB</td><td>48 KB</td></tr>",
                            "</table>"
                        ]
                    }
                }
            ],
            "execution_count": 18
        },
        {
            "cell_type": "markdown",
            "source": [
                "## Compactando os dados"
            ],
            "metadata": {
                "azdata_cell_guid": "635391a5-f1ee-4c40-aee3-438c7cd10545"
            }
        },
        {
            "cell_type": "code",
            "source": [
                "alter table dbo.tItemMovimento\n",
                "    rebuild partition = all\n",
                "with  (data_compression = page )"
            ],
            "metadata": {
                "azdata_cell_guid": "9f427fb6-ac93-4f51-8f42-e0c13764a507",
                "tags": []
            },
            "outputs": [
                {
                    "output_type": "display_data",
                    "data": {
                        "text/html": "Commands completed successfully."
                    },
                    "metadata": {}
                },
                {
                    "output_type": "display_data",
                    "data": {
                        "text/html": "Total execution time: 00:00:05.269"
                    },
                    "metadata": {}
                }
            ],
            "execution_count": 16
        },
        {
            "cell_type": "markdown",
            "source": [
                "## Resultado compactação"
            ],
            "metadata": {
                "azdata_cell_guid": "586f4a04-8fa4-492c-afc7-25f6b3582aba"
            }
        },
        {
            "cell_type": "code",
            "source": [
                "declare @nomeDaTabela as varchar(50) = 'tItemMovimento'\n",
                "select @nomeDaTabela as tabela, total_pages, used_pages, data_pages, p.data_compression_desc\n",
                "from sys.allocation_units au\n",
                "         join sys.partitions p\n",
                "              on au.container_id = p.partition_id\n",
                "where p.object_id = object_id( @nomeDaTabela )\n",
                "  and au.type = 1"
            ],
            "metadata": {
                "azdata_cell_guid": "464755ab-4789-4961-9469-cf3e64f088b5"
            },
            "outputs": [
                {
                    "output_type": "display_data",
                    "data": {
                        "text/html": "(1 row affected)"
                    },
                    "metadata": {}
                },
                {
                    "output_type": "display_data",
                    "data": {
                        "text/html": "Total execution time: 00:00:00.001"
                    },
                    "metadata": {}
                },
                {
                    "output_type": "execute_result",
                    "metadata": {},
                    "execution_count": 17,
                    "data": {
                        "application/vnd.dataresource+json": {
                            "schema": {
                                "fields": [
                                    {
                                        "name": "tabela"
                                    },
                                    {
                                        "name": "total_pages"
                                    },
                                    {
                                        "name": "used_pages"
                                    },
                                    {
                                        "name": "data_pages"
                                    },
                                    {
                                        "name": "data_compression_desc"
                                    }
                                ]
                            },
                            "data": [
                                {
                                    "0": "tItemMovimento",
                                    "1": "8202",
                                    "2": "8196",
                                    "3": "8194",
                                    "4": "PAGE"
                                }
                            ]
                        },
                        "text/html": [
                            "<table>",
                            "<tr><th>tabela</th><th>total_pages</th><th>used_pages</th><th>data_pages</th><th>data_compression_desc</th></tr>",
                            "<tr><td>tItemMovimento</td><td>8202</td><td>8196</td><td>8194</td><td>PAGE</td></tr>",
                            "</table>"
                        ]
                    }
                }
            ],
            "execution_count": 17
        }
    ]
}