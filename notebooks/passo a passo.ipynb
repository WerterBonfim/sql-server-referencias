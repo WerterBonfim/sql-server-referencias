{
    "metadata": {
        "kernelspec": {
            "name": "SQL",
            "display_name": "SQL",
            "language": "sql"
        },
        "language_info": {
            "name": "sql",
            "version": ""
        }
    },
    "nbformat_minor": 2,
    "nbformat": 4,
    "cells": [
        {
            "cell_type": "code",
            "source": [
                "use DBDemoA"
            ],
            "metadata": {
                "azdata_cell_guid": "cd5c94ab-0535-4eb5-b6a3-9d89bd3de0b1"
            },
            "outputs": [
                {
                    "output_type": "display_data",
                    "data": {
                        "text/html": "Commands completed successfully."
                    },
                    "metadata": {}
                },
                {
                    "output_type": "display_data",
                    "data": {
                        "text/html": "Total execution time: 00:00:00.005"
                    },
                    "metadata": {}
                }
            ],
            "execution_count": 2
        },
        {
            "cell_type": "code",
            "source": [
                "select\n",
                "    total_physical_memory_kb / 1024.0 as MemoriaTotal,\n",
                "    available_physical_memory_kb / 1024 as MemoriaDisponivel\n",
                "from sys.dm_os_sys_memory"
            ],
            "metadata": {
                "azdata_cell_guid": "67d75488-bade-427f-b8d1-a5baf4f10a5c"
            },
            "outputs": [
                {
                    "output_type": "display_data",
                    "data": {
                        "text/html": "(1 row affected)"
                    },
                    "metadata": {}
                },
                {
                    "output_type": "display_data",
                    "data": {
                        "text/html": "Total execution time: 00:00:00.042"
                    },
                    "metadata": {}
                },
                {
                    "output_type": "execute_result",
                    "execution_count": 3,
                    "data": {
                        "application/vnd.dataresource+json": {
                            "schema": {
                                "fields": [
                                    {
                                        "name": "MemoriaTotal"
                                    },
                                    {
                                        "name": "MemoriaDisponivel"
                                    }
                                ]
                            },
                            "data": [
                                {
                                    "0": "25552.000000",
                                    "1": "13220"
                                }
                            ]
                        },
                        "text/html": "<table><tr><th>MemoriaTotal</th><th>MemoriaDisponivel</th></tr><tr><td>25552.000000</td><td>13220</td></tr></table>"
                    },
                    "metadata": {}
                }
            ],
            "execution_count": 3
        },
        {
            "cell_type": "code",
            "source": [
                "-- Analisa a quantidade de memoria\n",
                "select db_name(database_id)            as BancoDeDados,\n",
                "       (count(1) * 8192) / 1024 / 1024 as nQtdPaginas\n",
                "from sys.dm_os_buffer_descriptors\n",
                "group by db_name(database_id)\n",
                "order by nQtdPaginas desc"
            ],
            "metadata": {
                "azdata_cell_guid": "cf9386c3-a15c-4e6f-bda3-1fda9868f244",
                "tags": [
                    "hide_input"
                ]
            },
            "outputs": [
                {
                    "output_type": "display_data",
                    "data": {
                        "text/html": "(8 rows affected)"
                    },
                    "metadata": {}
                },
                {
                    "output_type": "display_data",
                    "data": {
                        "text/html": "Total execution time: 00:00:00.015"
                    },
                    "metadata": {}
                },
                {
                    "output_type": "execute_result",
                    "execution_count": 4,
                    "data": {
                        "application/vnd.dataresource+json": {
                            "schema": {
                                "fields": [
                                    {
                                        "name": "BancoDeDados"
                                    },
                                    {
                                        "name": "nQtdPaginas"
                                    }
                                ]
                            },
                            "data": [
                                {
                                    "0": "NULL",
                                    "1": "19"
                                },
                                {
                                    "0": "DBDemoA",
                                    "1": "2"
                                },
                                {
                                    "0": "eCommerce",
                                    "1": "2"
                                },
                                {
                                    "0": "msdb",
                                    "1": "1"
                                },
                                {
                                    "0": "tempdb",
                                    "1": "1"
                                },
                                {
                                    "0": "CanilDB",
                                    "1": "1"
                                },
                                {
                                    "0": "master",
                                    "1": "1"
                                },
                                {
                                    "0": "model",
                                    "1": "0"
                                }
                            ]
                        },
                        "text/html": "<table><tr><th>BancoDeDados</th><th>nQtdPaginas</th></tr><tr><td>NULL</td><td>19</td></tr><tr><td>DBDemoA</td><td>2</td></tr><tr><td>eCommerce</td><td>2</td></tr><tr><td>msdb</td><td>1</td></tr><tr><td>tempdb</td><td>1</td></tr><tr><td>CanilDB</td><td>1</td></tr><tr><td>master</td><td>1</td></tr><tr><td>model</td><td>0</td></tr></table>"
                    },
                    "metadata": {}
                }
            ],
            "execution_count": 4
        },
        {
            "cell_type": "code",
            "source": [
                "select ([size] * 8192) / 1024 as nTamanhoKB,\n",
                "       (growth * 8192) / 1024 as nCrescimentoKB,\n",
                "       *\n",
                "  from sys.database_files"
            ],
            "metadata": {
                "azdata_cell_guid": "fc0b2413-b927-4d86-938f-e11aa8a05bb2"
            },
            "outputs": [
                {
                    "output_type": "display_data",
                    "data": {
                        "text/html": "(8 rows affected)"
                    },
                    "metadata": {}
                },
                {
                    "output_type": "display_data",
                    "data": {
                        "text/html": "Total execution time: 00:00:00.023"
                    },
                    "metadata": {}
                },
                {
                    "output_type": "execute_result",
                    "execution_count": 5,
                    "data": {
                        "application/vnd.dataresource+json": {
                            "schema": {
                                "fields": [
                                    {
                                        "name": "nTamanhoKB"
                                    },
                                    {
                                        "name": "nCrescimentoKB"
                                    },
                                    {
                                        "name": "file_id"
                                    },
                                    {
                                        "name": "file_guid"
                                    },
                                    {
                                        "name": "type"
                                    },
                                    {
                                        "name": "type_desc"
                                    },
                                    {
                                        "name": "data_space_id"
                                    },
                                    {
                                        "name": "name"
                                    },
                                    {
                                        "name": "physical_name"
                                    },
                                    {
                                        "name": "state"
                                    },
                                    {
                                        "name": "state_desc"
                                    },
                                    {
                                        "name": "size"
                                    },
                                    {
                                        "name": "max_size"
                                    },
                                    {
                                        "name": "growth"
                                    },
                                    {
                                        "name": "is_media_read_only"
                                    },
                                    {
                                        "name": "is_read_only"
                                    },
                                    {
                                        "name": "is_sparse"
                                    },
                                    {
                                        "name": "is_percent_growth"
                                    },
                                    {
                                        "name": "is_name_reserved"
                                    },
                                    {
                                        "name": "is_persistent_log_buffer"
                                    },
                                    {
                                        "name": "create_lsn"
                                    },
                                    {
                                        "name": "drop_lsn"
                                    },
                                    {
                                        "name": "read_only_lsn"
                                    },
                                    {
                                        "name": "read_write_lsn"
                                    },
                                    {
                                        "name": "differential_base_lsn"
                                    },
                                    {
                                        "name": "differential_base_guid"
                                    },
                                    {
                                        "name": "differential_base_time"
                                    },
                                    {
                                        "name": "redo_start_lsn"
                                    },
                                    {
                                        "name": "redo_start_fork_guid"
                                    },
                                    {
                                        "name": "redo_target_lsn"
                                    },
                                    {
                                        "name": "redo_target_fork_guid"
                                    },
                                    {
                                        "name": "backup_lsn"
                                    }
                                ]
                            },
                            "data": [
                                {
                                    "0": "65536",
                                    "1": "8192",
                                    "2": "1",
                                    "3": "425f7398-4ea6-404e-a6dd-85edcdf413c5",
                                    "4": "0",
                                    "5": "ROWS",
                                    "6": "1",
                                    "7": "Primario",
                                    "8": "/var/opt/mssql/data/DBDemoA_Primario.mdf",
                                    "9": "0",
                                    "10": "ONLINE",
                                    "11": "8192",
                                    "12": "-1",
                                    "13": "1024",
                                    "14": "0",
                                    "15": "0",
                                    "16": "0",
                                    "17": "0",
                                    "18": "0",
                                    "19": "0",
                                    "20": "NULL",
                                    "21": "NULL",
                                    "22": "NULL",
                                    "23": "NULL",
                                    "24": "NULL",
                                    "25": "NULL",
                                    "26": "NULL",
                                    "27": "NULL",
                                    "28": "NULL",
                                    "29": "NULL",
                                    "30": "NULL",
                                    "31": "NULL"
                                },
                                {
                                    "0": "524288",
                                    "1": "65536",
                                    "2": "2",
                                    "3": "28d696b3-5831-475d-b363-6d55e53daf16",
                                    "4": "1",
                                    "5": "LOG",
                                    "6": "0",
                                    "7": "Log",
                                    "8": "/var/opt/mssql/data/DBDemoA_Log.ldf",
                                    "9": "0",
                                    "10": "ONLINE",
                                    "11": "65536",
                                    "12": "268435456",
                                    "13": "8192",
                                    "14": "0",
                                    "15": "0",
                                    "16": "0",
                                    "17": "0",
                                    "18": "0",
                                    "19": "0",
                                    "20": "NULL",
                                    "21": "NULL",
                                    "22": "NULL",
                                    "23": "NULL",
                                    "24": "NULL",
                                    "25": "NULL",
                                    "26": "NULL",
                                    "27": "NULL",
                                    "28": "NULL",
                                    "29": "NULL",
                                    "30": "NULL",
                                    "31": "NULL"
                                },
                                {
                                    "0": "1048576",
                                    "1": "1048576",
                                    "2": "3",
                                    "3": "fcb76a13-6257-4c85-a35e-af7a0b4aa3e7",
                                    "4": "0",
                                    "5": "ROWS",
                                    "6": "2",
                                    "7": "DadosTransacional1",
                                    "8": "/var/opt/mssql/data/DBDemoA_SecundarioT1.ndf",
                                    "9": "0",
                                    "10": "ONLINE",
                                    "11": "131072",
                                    "12": "-1",
                                    "13": "131072",
                                    "14": "0",
                                    "15": "0",
                                    "16": "0",
                                    "17": "0",
                                    "18": "0",
                                    "19": "0",
                                    "20": "37000000020000001",
                                    "21": "NULL",
                                    "22": "NULL",
                                    "23": "NULL",
                                    "24": "NULL",
                                    "25": "NULL",
                                    "26": "NULL",
                                    "27": "NULL",
                                    "28": "NULL",
                                    "29": "NULL",
                                    "30": "NULL",
                                    "31": "NULL"
                                },
                                {
                                    "0": "1048576",
                                    "1": "1048576",
                                    "2": "4",
                                    "3": "6146196a-3499-41b7-bfef-4fb92b6e1f65",
                                    "4": "0",
                                    "5": "ROWS",
                                    "6": "2",
                                    "7": "DadosTransacional2",
                                    "8": "/var/opt/mssql/data/DBDemoA_SecundarioT2.ndf",
                                    "9": "0",
                                    "10": "ONLINE",
                                    "11": "131072",
                                    "12": "-1",
                                    "13": "131072",
                                    "14": "0",
                                    "15": "0",
                                    "16": "0",
                                    "17": "0",
                                    "18": "0",
                                    "19": "0",
                                    "20": "37000000024800001",
                                    "21": "NULL",
                                    "22": "NULL",
                                    "23": "NULL",
                                    "24": "NULL",
                                    "25": "NULL",
                                    "26": "NULL",
                                    "27": "NULL",
                                    "28": "NULL",
                                    "29": "NULL",
                                    "30": "NULL",
                                    "31": "NULL"
                                },
                                {
                                    "0": "1048576",
                                    "1": "1048576",
                                    "2": "5",
                                    "3": "6b538f3d-dac2-465b-b196-18ff7e447c59",
                                    "4": "0",
                                    "5": "ROWS",
                                    "6": "3",
                                    "7": "IndicesTransacionais1",
                                    "8": "/var/opt/mssql/data/DBDemoA_I1.ndf",
                                    "9": "0",
                                    "10": "ONLINE",
                                    "11": "131072",
                                    "12": "1310720",
                                    "13": "131072",
                                    "14": "0",
                                    "15": "0",
                                    "16": "0",
                                    "17": "0",
                                    "18": "0",
                                    "19": "0",
                                    "20": "37000000029600001",
                                    "21": "NULL",
                                    "22": "NULL",
                                    "23": "NULL",
                                    "24": "NULL",
                                    "25": "NULL",
                                    "26": "NULL",
                                    "27": "NULL",
                                    "28": "NULL",
                                    "29": "NULL",
                                    "30": "NULL",
                                    "31": "NULL"
                                },
                                {
                                    "0": "1048576",
                                    "1": "1048576",
                                    "2": "6",
                                    "3": "1053e610-4512-46a9-8dbf-c4dcfc84911a",
                                    "4": "0",
                                    "5": "ROWS",
                                    "6": "3",
                                    "7": "IndicesTransacionais2",
                                    "8": "/var/opt/mssql/data/DBDemoA_I2.ndf",
                                    "9": "0",
                                    "10": "ONLINE",
                                    "11": "131072",
                                    "12": "1310720",
                                    "13": "131072",
                                    "14": "0",
                                    "15": "0",
                                    "16": "0",
                                    "17": "0",
                                    "18": "0",
                                    "19": "0",
                                    "20": "37000000034400001",
                                    "21": "NULL",
                                    "22": "NULL",
                                    "23": "NULL",
                                    "24": "NULL",
                                    "25": "NULL",
                                    "26": "NULL",
                                    "27": "NULL",
                                    "28": "NULL",
                                    "29": "NULL",
                                    "30": "NULL",
                                    "31": "NULL"
                                },
                                {
                                    "0": "1048576",
                                    "1": "65536",
                                    "2": "7",
                                    "3": "286fbade-09b5-4e3f-b36f-807b673f4c09",
                                    "4": "0",
                                    "5": "ROWS",
                                    "6": "4",
                                    "7": "DadosHistorico1",
                                    "8": "/var/opt/mssql/data/DBDemoA_SecundarioH1.ndf",
                                    "9": "0",
                                    "10": "ONLINE",
                                    "11": "131072",
                                    "12": "2621440",
                                    "13": "8192",
                                    "14": "0",
                                    "15": "0",
                                    "16": "0",
                                    "17": "0",
                                    "18": "0",
                                    "19": "0",
                                    "20": "37000000039200001",
                                    "21": "NULL",
                                    "22": "NULL",
                                    "23": "NULL",
                                    "24": "NULL",
                                    "25": "NULL",
                                    "26": "NULL",
                                    "27": "NULL",
                                    "28": "NULL",
                                    "29": "NULL",
                                    "30": "NULL",
                                    "31": "NULL"
                                },
                                {
                                    "0": "1048576",
                                    "1": "65536",
                                    "2": "8",
                                    "3": "9cb7d5db-4345-4911-be95-bab644168f1a",
                                    "4": "0",
                                    "5": "ROWS",
                                    "6": "4",
                                    "7": "DadosHistorico2",
                                    "8": "/var/opt/mssql/data/DBDemoA_SecundarioH2.ndf",
                                    "9": "0",
                                    "10": "ONLINE",
                                    "11": "131072",
                                    "12": "2621440",
                                    "13": "8192",
                                    "14": "0",
                                    "15": "0",
                                    "16": "0",
                                    "17": "0",
                                    "18": "0",
                                    "19": "0",
                                    "20": "37000000044000001",
                                    "21": "NULL",
                                    "22": "NULL",
                                    "23": "NULL",
                                    "24": "NULL",
                                    "25": "NULL",
                                    "26": "NULL",
                                    "27": "NULL",
                                    "28": "NULL",
                                    "29": "NULL",
                                    "30": "NULL",
                                    "31": "NULL"
                                }
                            ]
                        },
                        "text/html": "<table><tr><th>nTamanhoKB</th><th>nCrescimentoKB</th><th>file_id</th><th>file_guid</th><th>type</th><th>type_desc</th><th>data_space_id</th><th>name</th><th>physical_name</th><th>state</th><th>state_desc</th><th>size</th><th>max_size</th><th>growth</th><th>is_media_read_only</th><th>is_read_only</th><th>is_sparse</th><th>is_percent_growth</th><th>is_name_reserved</th><th>is_persistent_log_buffer</th><th>create_lsn</th><th>drop_lsn</th><th>read_only_lsn</th><th>read_write_lsn</th><th>differential_base_lsn</th><th>differential_base_guid</th><th>differential_base_time</th><th>redo_start_lsn</th><th>redo_start_fork_guid</th><th>redo_target_lsn</th><th>redo_target_fork_guid</th><th>backup_lsn</th></tr><tr><td>65536</td><td>8192</td><td>1</td><td>425f7398-4ea6-404e-a6dd-85edcdf413c5</td><td>0</td><td>ROWS</td><td>1</td><td>Primario</td><td>/var/opt/mssql/data/DBDemoA_Primario.mdf</td><td>0</td><td>ONLINE</td><td>8192</td><td>-1</td><td>1024</td><td>0</td><td>0</td><td>0</td><td>0</td><td>0</td><td>0</td><td>NULL</td><td>NULL</td><td>NULL</td><td>NULL</td><td>NULL</td><td>NULL</td><td>NULL</td><td>NULL</td><td>NULL</td><td>NULL</td><td>NULL</td><td>NULL</td></tr><tr><td>524288</td><td>65536</td><td>2</td><td>28d696b3-5831-475d-b363-6d55e53daf16</td><td>1</td><td>LOG</td><td>0</td><td>Log</td><td>/var/opt/mssql/data/DBDemoA_Log.ldf</td><td>0</td><td>ONLINE</td><td>65536</td><td>268435456</td><td>8192</td><td>0</td><td>0</td><td>0</td><td>0</td><td>0</td><td>0</td><td>NULL</td><td>NULL</td><td>NULL</td><td>NULL</td><td>NULL</td><td>NULL</td><td>NULL</td><td>NULL</td><td>NULL</td><td>NULL</td><td>NULL</td><td>NULL</td></tr><tr><td>1048576</td><td>1048576</td><td>3</td><td>fcb76a13-6257-4c85-a35e-af7a0b4aa3e7</td><td>0</td><td>ROWS</td><td>2</td><td>DadosTransacional1</td><td>/var/opt/mssql/data/DBDemoA_SecundarioT1.ndf</td><td>0</td><td>ONLINE</td><td>131072</td><td>-1</td><td>131072</td><td>0</td><td>0</td><td>0</td><td>0</td><td>0</td><td>0</td><td>37000000020000001</td><td>NULL</td><td>NULL</td><td>NULL</td><td>NULL</td><td>NULL</td><td>NULL</td><td>NULL</td><td>NULL</td><td>NULL</td><td>NULL</td><td>NULL</td></tr><tr><td>1048576</td><td>1048576</td><td>4</td><td>6146196a-3499-41b7-bfef-4fb92b6e1f65</td><td>0</td><td>ROWS</td><td>2</td><td>DadosTransacional2</td><td>/var/opt/mssql/data/DBDemoA_SecundarioT2.ndf</td><td>0</td><td>ONLINE</td><td>131072</td><td>-1</td><td>131072</td><td>0</td><td>0</td><td>0</td><td>0</td><td>0</td><td>0</td><td>37000000024800001</td><td>NULL</td><td>NULL</td><td>NULL</td><td>NULL</td><td>NULL</td><td>NULL</td><td>NULL</td><td>NULL</td><td>NULL</td><td>NULL</td><td>NULL</td></tr><tr><td>1048576</td><td>1048576</td><td>5</td><td>6b538f3d-dac2-465b-b196-18ff7e447c59</td><td>0</td><td>ROWS</td><td>3</td><td>IndicesTransacionais1</td><td>/var/opt/mssql/data/DBDemoA_I1.ndf</td><td>0</td><td>ONLINE</td><td>131072</td><td>1310720</td><td>131072</td><td>0</td><td>0</td><td>0</td><td>0</td><td>0</td><td>0</td><td>37000000029600001</td><td>NULL</td><td>NULL</td><td>NULL</td><td>NULL</td><td>NULL</td><td>NULL</td><td>NULL</td><td>NULL</td><td>NULL</td><td>NULL</td><td>NULL</td></tr><tr><td>1048576</td><td>1048576</td><td>6</td><td>1053e610-4512-46a9-8dbf-c4dcfc84911a</td><td>0</td><td>ROWS</td><td>3</td><td>IndicesTransacionais2</td><td>/var/opt/mssql/data/DBDemoA_I2.ndf</td><td>0</td><td>ONLINE</td><td>131072</td><td>1310720</td><td>131072</td><td>0</td><td>0</td><td>0</td><td>0</td><td>0</td><td>0</td><td>37000000034400001</td><td>NULL</td><td>NULL</td><td>NULL</td><td>NULL</td><td>NULL</td><td>NULL</td><td>NULL</td><td>NULL</td><td>NULL</td><td>NULL</td><td>NULL</td></tr><tr><td>1048576</td><td>65536</td><td>7</td><td>286fbade-09b5-4e3f-b36f-807b673f4c09</td><td>0</td><td>ROWS</td><td>4</td><td>DadosHistorico1</td><td>/var/opt/mssql/data/DBDemoA_SecundarioH1.ndf</td><td>0</td><td>ONLINE</td><td>131072</td><td>2621440</td><td>8192</td><td>0</td><td>0</td><td>0</td><td>0</td><td>0</td><td>0</td><td>37000000039200001</td><td>NULL</td><td>NULL</td><td>NULL</td><td>NULL</td><td>NULL</td><td>NULL</td><td>NULL</td><td>NULL</td><td>NULL</td><td>NULL</td><td>NULL</td></tr><tr><td>1048576</td><td>65536</td><td>8</td><td>9cb7d5db-4345-4911-be95-bab644168f1a</td><td>0</td><td>ROWS</td><td>4</td><td>DadosHistorico2</td><td>/var/opt/mssql/data/DBDemoA_SecundarioH2.ndf</td><td>0</td><td>ONLINE</td><td>131072</td><td>2621440</td><td>8192</td><td>0</td><td>0</td><td>0</td><td>0</td><td>0</td><td>0</td><td>37000000044000001</td><td>NULL</td><td>NULL</td><td>NULL</td><td>NULL</td><td>NULL</td><td>NULL</td><td>NULL</td><td>NULL</td><td>NULL</td><td>NULL</td><td>NULL</td></tr></table>"
                    },
                    "metadata": {}
                }
            ],
            "execution_count": 5
        },
        {
            "cell_type": "markdown",
            "source": [
                "## <span style=\"color: #6272a4;\">Query mais completa sobre o ambiente</span>"
            ],
            "metadata": {
                "azdata_cell_guid": "cf49319b-c7dd-45b5-828b-473505b71c6d"
            }
        },
        {
            "cell_type": "code",
            "source": [
                "select (df.size * 8192) / 1024 as nTamanhoKB,\n",
                "       (df.growth * 8192) / 1024 as nCrecimentoKB,\n",
                "       df.name as cNomeLogico,\n",
                "       df.physical_name as cNomeFisico,\n",
                "       ds.name as cFileGroup,\n",
                "       ds.type as cTipoFileGroup,\n",
                "       ds.type_desc,\n",
                "       ds.is_default\n",
                "from sys.database_files as df\n",
                "left join sys.data_spaces as ds\n",
                "    on df.data_space_id = ds.data_space_id"
            ],
            "metadata": {
                "azdata_cell_guid": "26b2c555-6da9-43bb-84a8-1199a03e3b92"
            },
            "outputs": [
                {
                    "output_type": "display_data",
                    "data": {
                        "text/html": "(8 rows affected)"
                    },
                    "metadata": {}
                },
                {
                    "output_type": "display_data",
                    "data": {
                        "text/html": "Total execution time: 00:00:00.010"
                    },
                    "metadata": {}
                },
                {
                    "output_type": "execute_result",
                    "execution_count": 6,
                    "data": {
                        "application/vnd.dataresource+json": {
                            "schema": {
                                "fields": [
                                    {
                                        "name": "nTamanhoKB"
                                    },
                                    {
                                        "name": "nCrecimentoKB"
                                    },
                                    {
                                        "name": "cNomeLogico"
                                    },
                                    {
                                        "name": "cNomeFisico"
                                    },
                                    {
                                        "name": "cFileGroup"
                                    },
                                    {
                                        "name": "cTipoFileGroup"
                                    },
                                    {
                                        "name": "type_desc"
                                    },
                                    {
                                        "name": "is_default"
                                    }
                                ]
                            },
                            "data": [
                                {
                                    "0": "65536",
                                    "1": "8192",
                                    "2": "Primario",
                                    "3": "/var/opt/mssql/data/DBDemoA_Primario.mdf",
                                    "4": "PRIMARY",
                                    "5": "FG",
                                    "6": "ROWS_FILEGROUP",
                                    "7": "0"
                                },
                                {
                                    "0": "524288",
                                    "1": "65536",
                                    "2": "Log",
                                    "3": "/var/opt/mssql/data/DBDemoA_Log.ldf",
                                    "4": "NULL",
                                    "5": "NULL",
                                    "6": "NULL",
                                    "7": "NULL"
                                },
                                {
                                    "0": "1048576",
                                    "1": "1048576",
                                    "2": "DadosTransacional1",
                                    "3": "/var/opt/mssql/data/DBDemoA_SecundarioT1.ndf",
                                    "4": "DADOS",
                                    "5": "FG",
                                    "6": "ROWS_FILEGROUP",
                                    "7": "1"
                                },
                                {
                                    "0": "1048576",
                                    "1": "1048576",
                                    "2": "DadosTransacional2",
                                    "3": "/var/opt/mssql/data/DBDemoA_SecundarioT2.ndf",
                                    "4": "DADOS",
                                    "5": "FG",
                                    "6": "ROWS_FILEGROUP",
                                    "7": "1"
                                },
                                {
                                    "0": "1048576",
                                    "1": "1048576",
                                    "2": "IndicesTransacionais1",
                                    "3": "/var/opt/mssql/data/DBDemoA_I1.ndf",
                                    "4": "INDICES",
                                    "5": "FG",
                                    "6": "ROWS_FILEGROUP",
                                    "7": "0"
                                },
                                {
                                    "0": "1048576",
                                    "1": "1048576",
                                    "2": "IndicesTransacionais2",
                                    "3": "/var/opt/mssql/data/DBDemoA_I2.ndf",
                                    "4": "INDICES",
                                    "5": "FG",
                                    "6": "ROWS_FILEGROUP",
                                    "7": "0"
                                },
                                {
                                    "0": "1048576",
                                    "1": "65536",
                                    "2": "DadosHistorico1",
                                    "3": "/var/opt/mssql/data/DBDemoA_SecundarioH1.ndf",
                                    "4": "DADOSHISTORICO",
                                    "5": "FG",
                                    "6": "ROWS_FILEGROUP",
                                    "7": "0"
                                },
                                {
                                    "0": "1048576",
                                    "1": "65536",
                                    "2": "DadosHistorico2",
                                    "3": "/var/opt/mssql/data/DBDemoA_SecundarioH2.ndf",
                                    "4": "DADOSHISTORICO",
                                    "5": "FG",
                                    "6": "ROWS_FILEGROUP",
                                    "7": "0"
                                }
                            ]
                        },
                        "text/html": "<table><tr><th>nTamanhoKB</th><th>nCrecimentoKB</th><th>cNomeLogico</th><th>cNomeFisico</th><th>cFileGroup</th><th>cTipoFileGroup</th><th>type_desc</th><th>is_default</th></tr><tr><td>65536</td><td>8192</td><td>Primario</td><td>/var/opt/mssql/data/DBDemoA_Primario.mdf</td><td>PRIMARY</td><td>FG</td><td>ROWS_FILEGROUP</td><td>0</td></tr><tr><td>524288</td><td>65536</td><td>Log</td><td>/var/opt/mssql/data/DBDemoA_Log.ldf</td><td>NULL</td><td>NULL</td><td>NULL</td><td>NULL</td></tr><tr><td>1048576</td><td>1048576</td><td>DadosTransacional1</td><td>/var/opt/mssql/data/DBDemoA_SecundarioT1.ndf</td><td>DADOS</td><td>FG</td><td>ROWS_FILEGROUP</td><td>1</td></tr><tr><td>1048576</td><td>1048576</td><td>DadosTransacional2</td><td>/var/opt/mssql/data/DBDemoA_SecundarioT2.ndf</td><td>DADOS</td><td>FG</td><td>ROWS_FILEGROUP</td><td>1</td></tr><tr><td>1048576</td><td>1048576</td><td>IndicesTransacionais1</td><td>/var/opt/mssql/data/DBDemoA_I1.ndf</td><td>INDICES</td><td>FG</td><td>ROWS_FILEGROUP</td><td>0</td></tr><tr><td>1048576</td><td>1048576</td><td>IndicesTransacionais2</td><td>/var/opt/mssql/data/DBDemoA_I2.ndf</td><td>INDICES</td><td>FG</td><td>ROWS_FILEGROUP</td><td>0</td></tr><tr><td>1048576</td><td>65536</td><td>DadosHistorico1</td><td>/var/opt/mssql/data/DBDemoA_SecundarioH1.ndf</td><td>DADOSHISTORICO</td><td>FG</td><td>ROWS_FILEGROUP</td><td>0</td></tr><tr><td>1048576</td><td>65536</td><td>DadosHistorico2</td><td>/var/opt/mssql/data/DBDemoA_SecundarioH2.ndf</td><td>DADOSHISTORICO</td><td>FG</td><td>ROWS_FILEGROUP</td><td>0</td></tr></table>"
                    },
                    "metadata": {}
                }
            ],
            "execution_count": 6
        },
        {
            "cell_type": "markdown",
            "source": [
                "### `Apresenta o tamanho alocado do FG e as quantidades em KB espaço utilizados e espaços livres.`"
            ],
            "metadata": {
                "azdata_cell_guid": "aa0d50bc-0889-4ba8-8eb6-81ed38572a44"
            }
        },
        {
            "cell_type": "code",
            "source": [
                "select\n",
                "        fg.name,\n",
                "       8 * su.total_page_count              as nTamanhoKb,\n",
                "       8 * su.allocated_extent_page_count   as nUsadoKB,\n",
                "       8 * su.unallocated_extent_page_count as nLivreKB\n",
                "from sys.dm_db_file_space_usage su\n",
                "join sys.filegroups fg\n",
                "    on su.filegroup_id = fg.data_space_id"
            ],
            "metadata": {
                "azdata_cell_guid": "5e9d386c-6ccc-464c-a089-2fd8a0d9cc9d"
            },
            "outputs": [
                {
                    "output_type": "display_data",
                    "data": {
                        "text/html": "(7 rows affected)"
                    },
                    "metadata": {}
                },
                {
                    "output_type": "display_data",
                    "data": {
                        "text/html": "Total execution time: 00:00:00.006"
                    },
                    "metadata": {}
                },
                {
                    "output_type": "execute_result",
                    "execution_count": 7,
                    "data": {
                        "application/vnd.dataresource+json": {
                            "schema": {
                                "fields": [
                                    {
                                        "name": "name"
                                    },
                                    {
                                        "name": "nTamanhoKb"
                                    },
                                    {
                                        "name": "nUsadoKB"
                                    },
                                    {
                                        "name": "nLivreKB"
                                    }
                                ]
                            },
                            "data": [
                                {
                                    "0": "PRIMARY",
                                    "1": "65536",
                                    "2": "2624",
                                    "3": "62912"
                                },
                                {
                                    "0": "DADOS",
                                    "1": "1048576",
                                    "2": "64",
                                    "3": "1048512"
                                },
                                {
                                    "0": "DADOS",
                                    "1": "1048576",
                                    "2": "64",
                                    "3": "1048512"
                                },
                                {
                                    "0": "INDICES",
                                    "1": "1048576",
                                    "2": "64",
                                    "3": "1048512"
                                },
                                {
                                    "0": "INDICES",
                                    "1": "1048576",
                                    "2": "64",
                                    "3": "1048512"
                                },
                                {
                                    "0": "DADOSHISTORICO",
                                    "1": "1048576",
                                    "2": "64",
                                    "3": "1048512"
                                },
                                {
                                    "0": "DADOSHISTORICO",
                                    "1": "1048576",
                                    "2": "64",
                                    "3": "1048512"
                                }
                            ]
                        },
                        "text/html": "<table><tr><th>name</th><th>nTamanhoKb</th><th>nUsadoKB</th><th>nLivreKB</th></tr><tr><td>PRIMARY</td><td>65536</td><td>2624</td><td>62912</td></tr><tr><td>DADOS</td><td>1048576</td><td>64</td><td>1048512</td></tr><tr><td>DADOS</td><td>1048576</td><td>64</td><td>1048512</td></tr><tr><td>INDICES</td><td>1048576</td><td>64</td><td>1048512</td></tr><tr><td>INDICES</td><td>1048576</td><td>64</td><td>1048512</td></tr><tr><td>DADOSHISTORICO</td><td>1048576</td><td>64</td><td>1048512</td></tr><tr><td>DADOSHISTORICO</td><td>1048576</td><td>64</td><td>1048512</td></tr></table>"
                    },
                    "metadata": {}
                }
            ],
            "execution_count": 7
        },
        {
            "cell_type": "markdown",
            "source": [
                "## <span style=\"color:#98afff;\">Apresenta o nome da tabela e em qual FG ela foi criada</span>"
            ],
            "metadata": {
                "azdata_cell_guid": "298f97da-7161-42aa-8978-8b4469a92766"
            }
        },
        {
            "cell_type": "code",
            "source": [
                "declare @nomeTabela varchar(20) = 'tExemplo1'\n",
                "\n",
                "select object_name(i.object_id) as [Table], d.name as Filegroup\n",
                "from sys.data_spaces d\n",
                "join sys.indexes i\n",
                "    on d.data_space_id = i.data_space_id\n",
                "where i.object_id = object_id(@nomeTabela)\n",
                "and i.index_id in (0,1)\n",
                ""
            ],
            "metadata": {
                "azdata_cell_guid": "d4841c74-78ad-4147-bc66-f275f1c8d4f8"
            },
            "outputs": [
                {
                    "output_type": "display_data",
                    "data": {
                        "text/html": "(1 row affected)"
                    },
                    "metadata": {}
                },
                {
                    "output_type": "display_data",
                    "data": {
                        "text/html": "Total execution time: 00:00:00.002"
                    },
                    "metadata": {}
                },
                {
                    "output_type": "execute_result",
                    "execution_count": 10,
                    "data": {
                        "application/vnd.dataresource+json": {
                            "schema": {
                                "fields": [
                                    {
                                        "name": "Table"
                                    },
                                    {
                                        "name": "Filegroup"
                                    }
                                ]
                            },
                            "data": [
                                {
                                    "0": "tExemplo1",
                                    "1": "DADOS"
                                }
                            ]
                        },
                        "text/html": "<table><tr><th>Table</th><th>Filegroup</th></tr><tr><td>tExemplo1</td><td>DADOS</td></tr></table>"
                    },
                    "metadata": {}
                }
            ],
            "execution_count": 10
        },
        {
            "cell_type": "markdown",
            "source": [
                ""
            ],
            "metadata": {
                "azdata_cell_guid": "f91cd938-c80d-4dd7-8b7f-0aceee224887"
            }
        },
        {
            "cell_type": "markdown",
            "source": [
                ""
            ],
            "metadata": {
                "azdata_cell_guid": "475fd6fd-a68c-42e1-bdc1-0d8574e0a7b1"
            }
        },
        {
            "cell_type": "code",
            "source": [
                "select fg.name,\n",
                "       su.total_page_count as TotalPaginas,\n",
                "       su.allocated_extent_page_count as PaginasUsadas,\n",
                "       su.unallocated_extent_page_count as PaginaLivres,\n",
                "\n",
                "       su.total_page_count * 8192 / 1024.0 as TamanhoKb,\n",
                "       su.allocated_extent_page_count * 8 / 1024.0 as UsadoKB,\n",
                "       su.unallocated_extent_page_count * 8 / 1024.0 as LivreKB\n",
                "from sys.dm_db_file_space_usage su\n",
                "join sys.filegroups fg\n",
                "  on su.filegroup_id = fg.data_space_id"
            ],
            "metadata": {
                "azdata_cell_guid": "1ab97dd5-e6af-4967-a08b-05abf39dc621"
            },
            "outputs": [
                {
                    "output_type": "display_data",
                    "data": {
                        "text/html": "(7 rows affected)"
                    },
                    "metadata": {}
                },
                {
                    "output_type": "display_data",
                    "data": {
                        "text/html": "Total execution time: 00:00:00.005"
                    },
                    "metadata": {}
                },
                {
                    "output_type": "execute_result",
                    "execution_count": 11,
                    "data": {
                        "application/vnd.dataresource+json": {
                            "schema": {
                                "fields": [
                                    {
                                        "name": "name"
                                    },
                                    {
                                        "name": "TotalPaginas"
                                    },
                                    {
                                        "name": "PaginasUsadas"
                                    },
                                    {
                                        "name": "PaginaLivres"
                                    },
                                    {
                                        "name": "TamanhoKb"
                                    },
                                    {
                                        "name": "UsadoKB"
                                    },
                                    {
                                        "name": "LivreKB"
                                    }
                                ]
                            },
                            "data": [
                                {
                                    "0": "PRIMARY",
                                    "1": "8192",
                                    "2": "328",
                                    "3": "7864",
                                    "4": "65536.000000",
                                    "5": "2.562500",
                                    "6": "61.437500"
                                },
                                {
                                    "0": "DADOS",
                                    "1": "131072",
                                    "2": "8",
                                    "3": "131064",
                                    "4": "1048576.000000",
                                    "5": "0.062500",
                                    "6": "1023.937500"
                                },
                                {
                                    "0": "DADOS",
                                    "1": "131072",
                                    "2": "8",
                                    "3": "131064",
                                    "4": "1048576.000000",
                                    "5": "0.062500",
                                    "6": "1023.937500"
                                },
                                {
                                    "0": "INDICES",
                                    "1": "131072",
                                    "2": "8",
                                    "3": "131064",
                                    "4": "1048576.000000",
                                    "5": "0.062500",
                                    "6": "1023.937500"
                                },
                                {
                                    "0": "INDICES",
                                    "1": "131072",
                                    "2": "8",
                                    "3": "131064",
                                    "4": "1048576.000000",
                                    "5": "0.062500",
                                    "6": "1023.937500"
                                },
                                {
                                    "0": "DADOSHISTORICO",
                                    "1": "131072",
                                    "2": "8",
                                    "3": "131064",
                                    "4": "1048576.000000",
                                    "5": "0.062500",
                                    "6": "1023.937500"
                                },
                                {
                                    "0": "DADOSHISTORICO",
                                    "1": "131072",
                                    "2": "8",
                                    "3": "131064",
                                    "4": "1048576.000000",
                                    "5": "0.062500",
                                    "6": "1023.937500"
                                }
                            ]
                        },
                        "text/html": "<table><tr><th>name</th><th>TotalPaginas</th><th>PaginasUsadas</th><th>PaginaLivres</th><th>TamanhoKb</th><th>UsadoKB</th><th>LivreKB</th></tr><tr><td>PRIMARY</td><td>8192</td><td>328</td><td>7864</td><td>65536.000000</td><td>2.562500</td><td>61.437500</td></tr><tr><td>DADOS</td><td>131072</td><td>8</td><td>131064</td><td>1048576.000000</td><td>0.062500</td><td>1023.937500</td></tr><tr><td>DADOS</td><td>131072</td><td>8</td><td>131064</td><td>1048576.000000</td><td>0.062500</td><td>1023.937500</td></tr><tr><td>INDICES</td><td>131072</td><td>8</td><td>131064</td><td>1048576.000000</td><td>0.062500</td><td>1023.937500</td></tr><tr><td>INDICES</td><td>131072</td><td>8</td><td>131064</td><td>1048576.000000</td><td>0.062500</td><td>1023.937500</td></tr><tr><td>DADOSHISTORICO</td><td>131072</td><td>8</td><td>131064</td><td>1048576.000000</td><td>0.062500</td><td>1023.937500</td></tr><tr><td>DADOSHISTORICO</td><td>131072</td><td>8</td><td>131064</td><td>1048576.000000</td><td>0.062500</td><td>1023.937500</td></tr></table>"
                    },
                    "metadata": {}
                }
            ],
            "execution_count": 11
        },
        {
            "cell_type": "markdown",
            "source": [
                "## Mostra as paginas que estão alocadas na tabela"
            ],
            "metadata": {
                "azdata_cell_guid": "625e9fcb-f17c-4783-8338-79d0c4118bc9"
            }
        },
        {
            "cell_type": "code",
            "source": [
                "declare @nomeDaTabela as varchar(50) = 'Clientes'\n",
                "select total_pages, used_pages, data_pages, p.data_compression_desc\n",
                "from sys.allocation_units au\n",
                "         join sys.partitions p\n",
                "              on au.container_id = p.partition_id\n",
                "where p.object_id = object_id( @nomeDaTabela )\n",
                "  and au.type = 1"
            ],
            "metadata": {
                "azdata_cell_guid": "40a0c0a7-644d-461f-87ba-cdbdd54cfd0f"
            },
            "outputs": [
                {
                    "output_type": "display_data",
                    "data": {
                        "text/html": "(1 row affected)"
                    },
                    "metadata": {}
                },
                {
                    "output_type": "display_data",
                    "data": {
                        "text/html": "Total execution time: 00:00:00.013"
                    },
                    "metadata": {}
                },
                {
                    "output_type": "execute_result",
                    "metadata": {},
                    "execution_count": 2,
                    "data": {
                        "application/vnd.dataresource+json": {
                            "schema": {
                                "fields": [
                                    {
                                        "name": "total_pages"
                                    },
                                    {
                                        "name": "used_pages"
                                    },
                                    {
                                        "name": "data_pages"
                                    },
                                    {
                                        "name": "data_compression_desc"
                                    }
                                ]
                            },
                            "data": [
                                {
                                    "0": "9",
                                    "1": "2",
                                    "2": "1",
                                    "3": "NONE"
                                }
                            ]
                        },
                        "text/html": [
                            "<table>",
                            "<tr><th>total_pages</th><th>used_pages</th><th>data_pages</th><th>data_compression_desc</th></tr>",
                            "<tr><td>9</td><td>2</td><td>1</td><td>NONE</td></tr>",
                            "</table>"
                        ]
                    }
                }
            ],
            "execution_count": 2
        }
    ]
}