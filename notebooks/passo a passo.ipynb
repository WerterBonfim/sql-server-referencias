{
    "metadata": {
        "kernelspec": {
            "name": "SQL",
            "display_name": "SQL",
            "language": "sql"
        },
        "language_info": {
            "name": "sql",
            "version": ""
        }
    },
    "nbformat_minor": 2,
    "nbformat": 4,
    "cells": [
        {
            "cell_type": "code",
            "source": [
                "use DBDemoA"
            ],
            "metadata": {
                "azdata_cell_guid": "cd5c94ab-0535-4eb5-b6a3-9d89bd3de0b1"
            },
            "outputs": [
                {
                    "output_type": "display_data",
                    "data": {
                        "text/html": "Commands completed successfully."
                    },
                    "metadata": {}
                },
                {
                    "output_type": "display_data",
                    "data": {
                        "text/html": "Total execution time: 00:00:00"
                    },
                    "metadata": {}
                }
            ],
            "execution_count": 1
        },
        {
            "cell_type": "code",
            "source": [
                "select\n",
                "    total_physical_memory_kb / 1024.0 as MemoriaTotal,\n",
                "    available_physical_memory_kb / 1024 as MemoriaDisponivel\n",
                "from sys.dm_os_sys_memory"
            ],
            "metadata": {
                "azdata_cell_guid": "67d75488-bade-427f-b8d1-a5baf4f10a5c"
            },
            "outputs": [
                {
                    "output_type": "display_data",
                    "data": {
                        "text/html": "(1 row affected)"
                    },
                    "metadata": {}
                },
                {
                    "output_type": "display_data",
                    "data": {
                        "text/html": "Total execution time: 00:00:00.002"
                    },
                    "metadata": {}
                },
                {
                    "output_type": "execute_result",
                    "execution_count": 3,
                    "data": {
                        "application/vnd.dataresource+json": {
                            "schema": {
                                "fields": [
                                    {
                                        "name": "MemoriaTotal"
                                    },
                                    {
                                        "name": "MemoriaDisponivel"
                                    }
                                ]
                            },
                            "data": [
                                {
                                    "0": "25552.000000",
                                    "1": "20326"
                                }
                            ]
                        },
                        "text/html": "<table><tr><th>MemoriaTotal</th><th>MemoriaDisponivel</th></tr><tr><td>25552.000000</td><td>20326</td></tr></table>"
                    },
                    "metadata": {}
                }
            ],
            "execution_count": 3
        },
        {
            "cell_type": "code",
            "source": [
                "-- Analisa a quantidade de memoria\n",
                "select db_name(database_id)            as BancoDeDados,\n",
                "       (count(1) * 8192) / 1024 / 1024 as nQtdPaginas\n",
                "from sys.dm_os_buffer_descriptors\n",
                "group by db_name(database_id)\n",
                "order by nQtdPaginas desc"
            ],
            "metadata": {
                "azdata_cell_guid": "cf9386c3-a15c-4e6f-bda3-1fda9868f244",
                "tags": [
                    "hide_input"
                ]
            },
            "outputs": [
                {
                    "output_type": "display_data",
                    "data": {
                        "text/html": "(9 rows affected)"
                    },
                    "metadata": {}
                },
                {
                    "output_type": "display_data",
                    "data": {
                        "text/html": "Total execution time: 00:00:00.019"
                    },
                    "metadata": {}
                },
                {
                    "output_type": "execute_result",
                    "execution_count": 4,
                    "data": {
                        "application/vnd.dataresource+json": {
                            "schema": {
                                "fields": [
                                    {
                                        "name": "BancoDeDados"
                                    },
                                    {
                                        "name": "nQtdPaginas"
                                    }
                                ]
                            },
                            "data": [
                                {
                                    "0": "eCommerce",
                                    "1": "66"
                                },
                                {
                                    "0": "NULL",
                                    "1": "19"
                                },
                                {
                                    "0": "CanilDB",
                                    "1": "3"
                                },
                                {
                                    "0": "master",
                                    "1": "2"
                                },
                                {
                                    "0": "msdb",
                                    "1": "1"
                                },
                                {
                                    "0": "tempdb",
                                    "1": "1"
                                },
                                {
                                    "0": "DominandoEFCore",
                                    "1": "1"
                                },
                                {
                                    "0": "DBDemoA",
                                    "1": "0"
                                },
                                {
                                    "0": "model",
                                    "1": "0"
                                }
                            ]
                        },
                        "text/html": "<table><tr><th>BancoDeDados</th><th>nQtdPaginas</th></tr><tr><td>eCommerce</td><td>66</td></tr><tr><td>NULL</td><td>19</td></tr><tr><td>CanilDB</td><td>3</td></tr><tr><td>master</td><td>2</td></tr><tr><td>msdb</td><td>1</td></tr><tr><td>tempdb</td><td>1</td></tr><tr><td>DominandoEFCore</td><td>1</td></tr><tr><td>DBDemoA</td><td>0</td></tr><tr><td>model</td><td>0</td></tr></table>"
                    },
                    "metadata": {}
                }
            ],
            "execution_count": 4
        },
        {
            "cell_type": "code",
            "source": [
                "select ([size] * 8192) / 1024 as nTamanhoKB,\n",
                "       (growth * 8192) / 1024 as nCrescimentoKB,\n",
                "       *\n",
                "  from sys.database_files"
            ],
            "metadata": {
                "azdata_cell_guid": "fc0b2413-b927-4d86-938f-e11aa8a05bb2"
            },
            "outputs": [
                {
                    "output_type": "display_data",
                    "data": {
                        "text/html": "(4 rows affected)"
                    },
                    "metadata": {}
                },
                {
                    "output_type": "display_data",
                    "data": {
                        "text/html": "Total execution time: 00:00:00.003"
                    },
                    "metadata": {}
                },
                {
                    "output_type": "execute_result",
                    "execution_count": 6,
                    "data": {
                        "application/vnd.dataresource+json": {
                            "schema": {
                                "fields": [
                                    {
                                        "name": "nTamanhoKB"
                                    },
                                    {
                                        "name": "nCrescimentoKB"
                                    },
                                    {
                                        "name": "file_id"
                                    },
                                    {
                                        "name": "file_guid"
                                    },
                                    {
                                        "name": "type"
                                    },
                                    {
                                        "name": "type_desc"
                                    },
                                    {
                                        "name": "data_space_id"
                                    },
                                    {
                                        "name": "name"
                                    },
                                    {
                                        "name": "physical_name"
                                    },
                                    {
                                        "name": "state"
                                    },
                                    {
                                        "name": "state_desc"
                                    },
                                    {
                                        "name": "size"
                                    },
                                    {
                                        "name": "max_size"
                                    },
                                    {
                                        "name": "growth"
                                    },
                                    {
                                        "name": "is_media_read_only"
                                    },
                                    {
                                        "name": "is_read_only"
                                    },
                                    {
                                        "name": "is_sparse"
                                    },
                                    {
                                        "name": "is_percent_growth"
                                    },
                                    {
                                        "name": "is_name_reserved"
                                    },
                                    {
                                        "name": "is_persistent_log_buffer"
                                    },
                                    {
                                        "name": "create_lsn"
                                    },
                                    {
                                        "name": "drop_lsn"
                                    },
                                    {
                                        "name": "read_only_lsn"
                                    },
                                    {
                                        "name": "read_write_lsn"
                                    },
                                    {
                                        "name": "differential_base_lsn"
                                    },
                                    {
                                        "name": "differential_base_guid"
                                    },
                                    {
                                        "name": "differential_base_time"
                                    },
                                    {
                                        "name": "redo_start_lsn"
                                    },
                                    {
                                        "name": "redo_start_fork_guid"
                                    },
                                    {
                                        "name": "redo_target_lsn"
                                    },
                                    {
                                        "name": "redo_target_fork_guid"
                                    },
                                    {
                                        "name": "backup_lsn"
                                    }
                                ]
                            },
                            "data": [
                                {
                                    "0": "65536",
                                    "1": "8192",
                                    "2": "1",
                                    "3": "10b5ddd7-cb8b-454b-8035-495b6e1b03ea",
                                    "4": "0",
                                    "5": "ROWS",
                                    "6": "1",
                                    "7": "Primario",
                                    "8": "/var/opt/mssql/data/DBDemoA_Primario.mdf",
                                    "9": "0",
                                    "10": "ONLINE",
                                    "11": "8192",
                                    "12": "-1",
                                    "13": "1024",
                                    "14": "0",
                                    "15": "0",
                                    "16": "0",
                                    "17": "0",
                                    "18": "0",
                                    "19": "0",
                                    "20": "NULL",
                                    "21": "NULL",
                                    "22": "NULL",
                                    "23": "NULL",
                                    "24": "NULL",
                                    "25": "NULL",
                                    "26": "NULL",
                                    "27": "NULL",
                                    "28": "NULL",
                                    "29": "NULL",
                                    "30": "NULL",
                                    "31": "NULL"
                                },
                                {
                                    "0": "524288",
                                    "1": "65536",
                                    "2": "2",
                                    "3": "b4d33f6f-c322-49ab-b44d-2dcc83bcbb95",
                                    "4": "1",
                                    "5": "LOG",
                                    "6": "0",
                                    "7": "Log",
                                    "8": "/var/opt/mssql/data/DBDemoA_Log.ldf",
                                    "9": "0",
                                    "10": "ONLINE",
                                    "11": "65536",
                                    "12": "268435456",
                                    "13": "8192",
                                    "14": "0",
                                    "15": "0",
                                    "16": "0",
                                    "17": "0",
                                    "18": "0",
                                    "19": "0",
                                    "20": "NULL",
                                    "21": "NULL",
                                    "22": "NULL",
                                    "23": "NULL",
                                    "24": "NULL",
                                    "25": "NULL",
                                    "26": "NULL",
                                    "27": "NULL",
                                    "28": "NULL",
                                    "29": "NULL",
                                    "30": "NULL",
                                    "31": "NULL"
                                },
                                {
                                    "0": "1048576",
                                    "1": "1048576",
                                    "2": "3",
                                    "3": "5d85619b-7d56-4496-a4a7-7a2f12d8c427",
                                    "4": "0",
                                    "5": "ROWS",
                                    "6": "2",
                                    "7": "DadosTransacional1",
                                    "8": "/var/opt/mssql/data/DBDemoA_SecundarioT1.mdf",
                                    "9": "0",
                                    "10": "ONLINE",
                                    "11": "131072",
                                    "12": "-1",
                                    "13": "131072",
                                    "14": "0",
                                    "15": "0",
                                    "16": "0",
                                    "17": "0",
                                    "18": "0",
                                    "19": "0",
                                    "20": "37000000019200001",
                                    "21": "NULL",
                                    "22": "NULL",
                                    "23": "NULL",
                                    "24": "NULL",
                                    "25": "NULL",
                                    "26": "NULL",
                                    "27": "NULL",
                                    "28": "NULL",
                                    "29": "NULL",
                                    "30": "NULL",
                                    "31": "NULL"
                                },
                                {
                                    "0": "1048576",
                                    "1": "1048576",
                                    "2": "4",
                                    "3": "32fd33fa-b8fc-4585-a2df-075661adfc25",
                                    "4": "0",
                                    "5": "ROWS",
                                    "6": "2",
                                    "7": "DadosTransacional2",
                                    "8": "/var/opt/mssql/data/DBDemoA_SecundarioT2.mdf",
                                    "9": "0",
                                    "10": "ONLINE",
                                    "11": "131072",
                                    "12": "-1",
                                    "13": "131072",
                                    "14": "0",
                                    "15": "0",
                                    "16": "0",
                                    "17": "0",
                                    "18": "0",
                                    "19": "0",
                                    "20": "37000000024000001",
                                    "21": "NULL",
                                    "22": "NULL",
                                    "23": "NULL",
                                    "24": "NULL",
                                    "25": "NULL",
                                    "26": "NULL",
                                    "27": "NULL",
                                    "28": "NULL",
                                    "29": "NULL",
                                    "30": "NULL",
                                    "31": "NULL"
                                }
                            ]
                        },
                        "text/html": "<table><tr><th>nTamanhoKB</th><th>nCrescimentoKB</th><th>file_id</th><th>file_guid</th><th>type</th><th>type_desc</th><th>data_space_id</th><th>name</th><th>physical_name</th><th>state</th><th>state_desc</th><th>size</th><th>max_size</th><th>growth</th><th>is_media_read_only</th><th>is_read_only</th><th>is_sparse</th><th>is_percent_growth</th><th>is_name_reserved</th><th>is_persistent_log_buffer</th><th>create_lsn</th><th>drop_lsn</th><th>read_only_lsn</th><th>read_write_lsn</th><th>differential_base_lsn</th><th>differential_base_guid</th><th>differential_base_time</th><th>redo_start_lsn</th><th>redo_start_fork_guid</th><th>redo_target_lsn</th><th>redo_target_fork_guid</th><th>backup_lsn</th></tr><tr><td>65536</td><td>8192</td><td>1</td><td>10b5ddd7-cb8b-454b-8035-495b6e1b03ea</td><td>0</td><td>ROWS</td><td>1</td><td>Primario</td><td>/var/opt/mssql/data/DBDemoA_Primario.mdf</td><td>0</td><td>ONLINE</td><td>8192</td><td>-1</td><td>1024</td><td>0</td><td>0</td><td>0</td><td>0</td><td>0</td><td>0</td><td>NULL</td><td>NULL</td><td>NULL</td><td>NULL</td><td>NULL</td><td>NULL</td><td>NULL</td><td>NULL</td><td>NULL</td><td>NULL</td><td>NULL</td><td>NULL</td></tr><tr><td>524288</td><td>65536</td><td>2</td><td>b4d33f6f-c322-49ab-b44d-2dcc83bcbb95</td><td>1</td><td>LOG</td><td>0</td><td>Log</td><td>/var/opt/mssql/data/DBDemoA_Log.ldf</td><td>0</td><td>ONLINE</td><td>65536</td><td>268435456</td><td>8192</td><td>0</td><td>0</td><td>0</td><td>0</td><td>0</td><td>0</td><td>NULL</td><td>NULL</td><td>NULL</td><td>NULL</td><td>NULL</td><td>NULL</td><td>NULL</td><td>NULL</td><td>NULL</td><td>NULL</td><td>NULL</td><td>NULL</td></tr><tr><td>1048576</td><td>1048576</td><td>3</td><td>5d85619b-7d56-4496-a4a7-7a2f12d8c427</td><td>0</td><td>ROWS</td><td>2</td><td>DadosTransacional1</td><td>/var/opt/mssql/data/DBDemoA_SecundarioT1.mdf</td><td>0</td><td>ONLINE</td><td>131072</td><td>-1</td><td>131072</td><td>0</td><td>0</td><td>0</td><td>0</td><td>0</td><td>0</td><td>37000000019200001</td><td>NULL</td><td>NULL</td><td>NULL</td><td>NULL</td><td>NULL</td><td>NULL</td><td>NULL</td><td>NULL</td><td>NULL</td><td>NULL</td><td>NULL</td></tr><tr><td>1048576</td><td>1048576</td><td>4</td><td>32fd33fa-b8fc-4585-a2df-075661adfc25</td><td>0</td><td>ROWS</td><td>2</td><td>DadosTransacional2</td><td>/var/opt/mssql/data/DBDemoA_SecundarioT2.mdf</td><td>0</td><td>ONLINE</td><td>131072</td><td>-1</td><td>131072</td><td>0</td><td>0</td><td>0</td><td>0</td><td>0</td><td>0</td><td>37000000024000001</td><td>NULL</td><td>NULL</td><td>NULL</td><td>NULL</td><td>NULL</td><td>NULL</td><td>NULL</td><td>NULL</td><td>NULL</td><td>NULL</td><td>NULL</td></tr></table>"
                    },
                    "metadata": {}
                }
            ],
            "execution_count": 6
        },
        {
            "cell_type": "code",
            "source": [
                "select (df.size * 8192) / 1024 as nTamanhoKB,\n",
                "       (df.growth * 8192) / 1024 as nCrecimentoKB,\n",
                "       df.name as cNomeLogico,\n",
                "       df.physical_name as cNomeFisico,\n",
                "       ds.name as cFileGroup,\n",
                "       ds.type as cTipoFileGroup,\n",
                "       ds.type_desc,\n",
                "       ds.is_default\n",
                "from sys.database_files as df\n",
                "left join sys.data_spaces as ds\n",
                "    on df.data_space_id = ds.data_space_id"
            ],
            "metadata": {
                "azdata_cell_guid": "26b2c555-6da9-43bb-84a8-1199a03e3b92"
            },
            "outputs": [
                {
                    "output_type": "display_data",
                    "data": {
                        "text/html": "(4 rows affected)"
                    },
                    "metadata": {}
                },
                {
                    "output_type": "display_data",
                    "data": {
                        "text/html": "Total execution time: 00:00:00.008"
                    },
                    "metadata": {}
                },
                {
                    "output_type": "execute_result",
                    "metadata": {},
                    "execution_count": 2,
                    "data": {
                        "application/vnd.dataresource+json": {
                            "schema": {
                                "fields": [
                                    {
                                        "name": "nTamanhoKB"
                                    },
                                    {
                                        "name": "nCrecimentoKB"
                                    },
                                    {
                                        "name": "cNomeLogico"
                                    },
                                    {
                                        "name": "cNomeFisico"
                                    },
                                    {
                                        "name": "cFileGroup"
                                    },
                                    {
                                        "name": "cTipoFileGroup"
                                    },
                                    {
                                        "name": "type_desc"
                                    },
                                    {
                                        "name": "is_default"
                                    }
                                ]
                            },
                            "data": [
                                {
                                    "0": "65536",
                                    "1": "8192",
                                    "2": "Primario",
                                    "3": "/var/opt/mssql/data/DBDemoA_Primario.mdf",
                                    "4": "PRIMARY",
                                    "5": "FG",
                                    "6": "ROWS_FILEGROUP",
                                    "7": "0"
                                },
                                {
                                    "0": "524288",
                                    "1": "65536",
                                    "2": "Log",
                                    "3": "/var/opt/mssql/data/DBDemoA_Log.ldf",
                                    "4": "NULL",
                                    "5": "NULL",
                                    "6": "NULL",
                                    "7": "NULL"
                                },
                                {
                                    "0": "1048576",
                                    "1": "1048576",
                                    "2": "DadosTransacional1",
                                    "3": "/var/opt/mssql/data/DBDemoA_SecundarioT1.ndf",
                                    "4": "DADOS",
                                    "5": "FG",
                                    "6": "ROWS_FILEGROUP",
                                    "7": "1"
                                },
                                {
                                    "0": "1048576",
                                    "1": "1048576",
                                    "2": "DadosTransacional2",
                                    "3": "/var/opt/mssql/data/DBDemoA_SecundarioT2.ndf",
                                    "4": "DADOS",
                                    "5": "FG",
                                    "6": "ROWS_FILEGROUP",
                                    "7": "1"
                                }
                            ]
                        },
                        "text/html": [
                            "<table>",
                            "<tr><th>nTamanhoKB</th><th>nCrecimentoKB</th><th>cNomeLogico</th><th>cNomeFisico</th><th>cFileGroup</th><th>cTipoFileGroup</th><th>type_desc</th><th>is_default</th></tr>",
                            "<tr><td>65536</td><td>8192</td><td>Primario</td><td>/var/opt/mssql/data/DBDemoA_Primario.mdf</td><td>PRIMARY</td><td>FG</td><td>ROWS_FILEGROUP</td><td>0</td></tr>",
                            "<tr><td>524288</td><td>65536</td><td>Log</td><td>/var/opt/mssql/data/DBDemoA_Log.ldf</td><td>NULL</td><td>NULL</td><td>NULL</td><td>NULL</td></tr>",
                            "<tr><td>1048576</td><td>1048576</td><td>DadosTransacional1</td><td>/var/opt/mssql/data/DBDemoA_SecundarioT1.ndf</td><td>DADOS</td><td>FG</td><td>ROWS_FILEGROUP</td><td>1</td></tr>",
                            "<tr><td>1048576</td><td>1048576</td><td>DadosTransacional2</td><td>/var/opt/mssql/data/DBDemoA_SecundarioT2.ndf</td><td>DADOS</td><td>FG</td><td>ROWS_FILEGROUP</td><td>1</td></tr>",
                            "</table>"
                        ]
                    }
                }
            ],
            "execution_count": 2
        }
    ]
}